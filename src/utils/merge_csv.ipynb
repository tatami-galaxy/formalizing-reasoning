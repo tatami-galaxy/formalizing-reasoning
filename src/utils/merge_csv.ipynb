{
 "cells": [
  {
   "cell_type": "code",
   "execution_count": 1,
   "id": "e4e5c304-3d95-4cb7-8f55-5b141cff3f3c",
   "metadata": {},
   "outputs": [],
   "source": [
    "# hardcoded redundant code to merge initial csvs\n",
    "\n",
    "import pandas as pd"
   ]
  },
  {
   "cell_type": "code",
   "execution_count": 2,
   "id": "3fe7b906-62c1-4548-8e77-e2c8f8760ed3",
   "metadata": {},
   "outputs": [],
   "source": [
    "folder = \"/Users/z5652395/formalizing-reasoning/results/\""
   ]
  },
  {
   "cell_type": "code",
   "execution_count": 3,
   "id": "558ae724-4079-4014-b4ee-d674176675f9",
   "metadata": {},
   "outputs": [],
   "source": [
    "files_qwen3_8B = [\n",
    "    'AIME_2024_Qwen3-8B_run_1.csv',\n",
    "    'AIME_2024_Qwen3-8B_run_2.csv',\n",
    "    'AIME_2024_Qwen3-8B_run_3.csv',\n",
    "    'AIME_2024_Qwen3-8B_run_4.csv',\n",
    "    'AIME_2024_Qwen3-8B_run_5.csv',\n",
    "    'AIME_2024_Qwen3-8B_run_6.csv',\n",
    "    'AIME_2024_Qwen3-8B_run_7.csv',\n",
    "    'AIME_2024_Qwen3-8B_run_8.csv',\n",
    "]"
   ]
  },
  {
   "cell_type": "code",
   "execution_count": 4,
   "id": "1dcf0de6-703d-4d24-b6f0-f2c9146d5814",
   "metadata": {},
   "outputs": [],
   "source": [
    "files_qwen2_5_math_7B = [\n",
    "    'AIME_2024_Qwen2.5-Math-7B-Instruct_run_1.csv',\n",
    "    'AIME_2024_Qwen2.5-Math-7B-Instruct_run_2.csv',\n",
    "    'AIME_2024_Qwen2.5-Math-7B-Instruct_run_3.csv',\n",
    "    'AIME_2024_Qwen2.5-Math-7B-Instruct_run_4.csv',\n",
    "    'AIME_2024_Qwen2.5-Math-7B-Instruct_run_5.csv',\n",
    "    'AIME_2024_Qwen2.5-Math-7B-Instruct_run_6.csv',\n",
    "    'AIME_2024_Qwen2.5-Math-7B-Instruct_run_7.csv',\n",
    "    'AIME_2024_Qwen2.5-Math-7B-Instruct_run_8.csv',\n",
    "]"
   ]
  },
  {
   "cell_type": "code",
   "execution_count": 5,
   "id": "ec3ace23-6667-443c-8ab9-31a6f4f18333",
   "metadata": {},
   "outputs": [],
   "source": [
    "files_qwen3_8B_think = [\n",
    "    'AIME_2024_Qwen3-8B_think_run_1.csv',\n",
    "    'AIME_2024_Qwen3-8B_think_run_2.csv',\n",
    "    'AIME_2024_Qwen3-8B_think_run_3.csv',\n",
    "    'AIME_2024_Qwen3-8B_think_run_4.csv',\n",
    "    'AIME_2024_Qwen3-8B_think_run_5.csv',\n",
    "    'AIME_2024_Qwen3-8B_think_run_6.csv',\n",
    "    'AIME_2024_Qwen3-8B_think_run_7.csv',\n",
    "    'AIME_2024_Qwen3-8B_think_run_8.csv',\n",
    "]"
   ]
  },
  {
   "cell_type": "code",
   "execution_count": 6,
   "id": "67d70b94-7f31-4977-bac4-3661f4317094",
   "metadata": {},
   "outputs": [],
   "source": [
    "qwen3_8B_df_list = [pd.read_csv(folder+f) for f in files_qwen3_8B]\n",
    "qwen3_8B_all_df = pd.concat(qwen3_8B_df_list)\n",
    "qwen3_8B_all_df.to_csv(folder+'AIME_2024_Qwen3-8B_runs_8.csv')"
   ]
  },
  {
   "cell_type": "code",
   "execution_count": 7,
   "id": "7c2ab00a-947e-4310-af4b-e269c762f7b4",
   "metadata": {},
   "outputs": [],
   "source": [
    "qwen2_5_math_7B_df_list = [pd.read_csv(folder+f) for f in files_qwen2_5_math_7B]\n",
    "qwen2_5_math_7B_all_df = pd.concat(qwen2_5_math_7B_df_list)\n",
    "qwen2_5_math_7B_all_df.to_csv(folder+'AIME_2024_Qwen2.5-Math-7B-Instruct_runs_8.csv')"
   ]
  },
  {
   "cell_type": "code",
   "execution_count": null,
   "id": "ebfec9ba-b029-497f-8a2f-738a94394ae8",
   "metadata": {},
   "outputs": [],
   "source": [
    "qwen3_8B_think_df_list = [pd.read_csv(folder+f) for f in files_qwen3_8B_think]\n",
    "qwen3_8B_think_all_df = pd.concat(qwen3_8B_think_df_list)\n",
    "qwen3_8B_think_all_df.to_csv(folder+'AIME_2024_Qwen3-8B_think_runs_8.csv')"
   ]
  },
  {
   "cell_type": "code",
   "execution_count": null,
   "id": "40372db5-4a2c-4b33-8463-9e6e3009fb2e",
   "metadata": {},
   "outputs": [],
   "source": []
  }
 ],
 "metadata": {
  "kernelspec": {
   "display_name": "Python 3 (ipykernel)",
   "language": "python",
   "name": "python3"
  },
  "language_info": {
   "codemirror_mode": {
    "name": "ipython",
    "version": 3
   },
   "file_extension": ".py",
   "mimetype": "text/x-python",
   "name": "python",
   "nbconvert_exporter": "python",
   "pygments_lexer": "ipython3",
   "version": "3.13.3"
  }
 },
 "nbformat": 4,
 "nbformat_minor": 5
}
