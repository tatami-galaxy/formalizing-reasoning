{
 "cells": [
  {
   "cell_type": "code",
   "execution_count": 6,
   "id": "043a8d10-4b4f-4f0f-a344-9b656310a54a",
   "metadata": {},
   "outputs": [
    {
     "data": {
      "text/plain": [
       "<torch._C.Generator at 0x7fb786314450>"
      ]
     },
     "execution_count": 6,
     "metadata": {},
     "output_type": "execute_result"
    }
   ],
   "source": [
    "import time\n",
    "from transformers import AutoModelForCausalLM, AutoTokenizer\n",
    "import torch\n",
    "torch.manual_seed(30)"
   ]
  },
  {
   "cell_type": "code",
   "execution_count": 3,
   "id": "5ee894ce-5231-4f4d-bf26-b38322b24d74",
   "metadata": {},
   "outputs": [
    {
     "data": {
      "application/vnd.jupyter.widget-view+json": {
       "model_id": "78b5e5ac01654e11871e5b45cdc7c1ae",
       "version_major": 2,
       "version_minor": 0
      },
      "text/plain": [
       "tokenizer_config.json: 0.00B [00:00, ?B/s]"
      ]
     },
     "metadata": {},
     "output_type": "display_data"
    },
    {
     "data": {
      "application/vnd.jupyter.widget-view+json": {
       "model_id": "95badaf45b53497fbb134dceb23dd69e",
       "version_major": 2,
       "version_minor": 0
      },
      "text/plain": [
       "tokenizer.json: 0.00B [00:00, ?B/s]"
      ]
     },
     "metadata": {},
     "output_type": "display_data"
    }
   ],
   "source": [
    "model_id = \"deepseek-ai/DeepSeek-Prover-V2-7B\"\n",
    "\n",
    "tokenizer = AutoTokenizer.from_pretrained(model_id)\n",
    "model = AutoModelForCausalLM.from_pretrained(model_id, device_map=\"auto\", torch_dtype=torch.bfloat16, trust_remote_code=True)"
   ]
  },
  {
   "cell_type": "code",
   "execution_count": 10,
   "id": "3cf1e029-512e-4cae-be70-f6d77ad4c5ef",
   "metadata": {},
   "outputs": [
    {
     "name": "stderr",
     "output_type": "stream",
     "text": [
      "<>:9: SyntaxWarning: invalid escape sequence '\\%'\n",
      "<>:9: SyntaxWarning: invalid escape sequence '\\%'\n",
      "/tmp/ipykernel_2116787/143528910.py:9: SyntaxWarning: invalid escape sequence '\\%'\n",
      "  /-- What is the positive difference between $120\\%$ of 30 and $130\\%$ of 20? Show that it is 10.-/\n"
     ]
    }
   ],
   "source": [
    "formal_statement = \"\"\"\n",
    "import Mathlib\n",
    "import Aesop\n",
    "\n",
    "set_option maxHeartbeats 0\n",
    "\n",
    "open BigOperators Real Nat Topology Rat\n",
    "\n",
    "/-- What is the positive difference between $120\\%$ of 30 and $130\\%$ of 20? Show that it is 10.-/\n",
    "theorem mathd_algebra_10 : abs ((120 : ℝ) / 100 * 30 - 130 / 100 * 20) = 10 := by\n",
    "  sorry\n",
    "\"\"\".strip()\n",
    "\n",
    "prompt = \"\"\"\n",
    "Complete the following Lean 4 code:\n",
    "\n",
    "```lean4\n",
    "{}\n",
    "```\n",
    "\n",
    "\"\"\".strip()\n",
    "\n",
    "chat = [\n",
    "  {\"role\": \"user\", \"content\": prompt.format(formal_statement)},\n",
    "]\n",
    "\n",
    "inputs = tokenizer.apply_chat_template(chat, tokenize=True, add_generation_prompt=True, return_tensors=\"pt\").to(model.device)"
   ]
  },
  {
   "cell_type": "code",
   "execution_count": 11,
   "id": "1c4f79bf-1663-4be6-8865-a2635090feb5",
   "metadata": {},
   "outputs": [
    {
     "name": "stderr",
     "output_type": "stream",
     "text": [
      "The attention mask and the pad token id were not set. As a consequence, you may observe unexpected behavior. Please pass your input's `attention_mask` to obtain reliable results.\n",
      "Setting `pad_token_id` to `eos_token_id`:100001 for open-end generation.\n"
     ]
    },
    {
     "name": "stdout",
     "output_type": "stream",
     "text": [
      "['<｜begin▁of▁sentence｜><｜User｜>Complete the following Lean 4 code:\\n\\n```lean4\\nimport Mathlib\\nimport Aesop\\n\\nset_option maxHeartbeats 0\\n\\nopen BigOperators Real Nat Topology Rat\\n\\n/-- What is the positive difference between $120\\\\%$ of 30 and $130\\\\%$ of 20? Show that it is 10.-/\\ntheorem mathd_algebra_10 : abs ((120 : ℝ) / 100 * 30 - 130 / 100 * 20) = 10 := by\\n  sorry\\n```<｜Assistant｜>```lean4\\ntheorem mathd_algebra_10 : abs ((120 : ℝ) / 100 * 30 - 130 / 100 * 20) = 10 := by\\n  norm_num [abs_eq_self.mpr, abs_eq_neg_self.mpr, le_of_lt, sub_eq_add_neg, add_assoc]\\n  <;> norm_num\\n  <;> ring_nf\\n  <;> norm_num\\n  <;> apply abs_of_nonneg\\n  <;> norm_num\\n  <;> linarith\\n```<｜end▁of▁sentence｜>']\n",
      "145.98956966400146\n"
     ]
    }
   ],
   "source": [
    "start = time.time()\n",
    "outputs = model.generate(inputs, max_new_tokens=8192)\n",
    "print(tokenizer.batch_decode(outputs))\n",
    "print(time.time() - start)"
   ]
  },
  {
   "cell_type": "code",
   "execution_count": 17,
   "id": "ce84b609-e521-4e98-9711-dfd991f7a770",
   "metadata": {},
   "outputs": [
    {
     "name": "stdout",
     "output_type": "stream",
     "text": [
      "<｜begin▁of▁sentence｜><｜User｜>Complete the following Lean 4 code:\n",
      "\n",
      "```lean4\n",
      "import Mathlib\n",
      "import Aesop\n",
      "\n",
      "set_option maxHeartbeats 0\n",
      "\n",
      "open BigOperators Real Nat Topology Rat\n",
      "\n",
      "/-- What is the positive difference between $120\\%$ of 30 and $130\\%$ of 20? Show that it is 10.-/\n",
      "theorem mathd_algebra_10 : abs ((120 : ℝ) / 100 * 30 - 130 / 100 * 20) = 10 := by\n",
      "  sorry\n",
      "```<｜Assistant｜>```lean4\n",
      "theorem mathd_algebra_10 : abs ((120 : ℝ) / 100 * 30 - 130 / 100 * 20) = 10 := by\n",
      "  norm_num [abs_eq_self.mpr, abs_eq_neg_self.mpr, le_of_lt, sub_eq_add_neg, add_assoc]\n",
      "  <;> norm_num\n",
      "  <;> ring_nf\n",
      "  <;> norm_num\n",
      "  <;> apply abs_of_nonneg\n",
      "  <;> norm_num\n",
      "  <;> linarith\n",
      "```<｜end▁of▁sentence｜>\n"
     ]
    }
   ],
   "source": [
    "print(tokenizer.batch_decode(outputs)[0])"
   ]
  },
  {
   "cell_type": "code",
   "execution_count": 18,
   "id": "20df0134-49c2-4a24-ae15-ff09a841a9e9",
   "metadata": {},
   "outputs": [],
   "source": [
    "prompt = \"\"\"\n",
    "Convert the following into lean statements:\n",
    "\n",
    "if p, then if q, then r.\n",
    "\n",
    "\"\"\".strip()\n",
    "\n",
    "chat = [\n",
    "  {\"role\": \"user\", \"content\": prompt},\n",
    "]\n",
    "\n",
    "inputs = tokenizer.apply_chat_template(chat, tokenize=True, add_generation_prompt=True, return_tensors=\"pt\").to(model.device)"
   ]
  },
  {
   "cell_type": "code",
   "execution_count": 19,
   "id": "1385dac2-c857-49ba-a62e-5850cf2c9315",
   "metadata": {},
   "outputs": [
    {
     "name": "stderr",
     "output_type": "stream",
     "text": [
      "The attention mask and the pad token id were not set. As a consequence, you may observe unexpected behavior. Please pass your input's `attention_mask` to obtain reliable results.\n",
      "Setting `pad_token_id` to `eos_token_id`:100001 for open-end generation.\n"
     ]
    },
    {
     "name": "stdout",
     "output_type": "stream",
     "text": [
      "['<｜begin▁of▁sentence｜><｜User｜>Convert the following into lean statements:\\n\\nif p, then if q, then r.<｜Assistant｜>### Lean Statements\\n\\n1. **Statement**: If p, then if q, then r.\\n   - **Lean Statement**: `p → (q → r)`\\n\\n2. **Statement**: If p and q, then r.\\n   - **Lean Statement**: `p ∧ q → r`\\n\\n3. **Statement**: If p, then q, and if q, then r.\\n   - **Lean Statement**: `p → q ∧ (q → r)`\\n\\n4. **Statement**: If p, then q, and if q, then r, and if r, then s.\\n   - **Lean Statement**: `p → q ∧ (q → r ∧ (r → s))`\\n\\n5. **Statement**: If p, then q, and if q, then r, and if r, then s, and if s, then t.\\n   - **Lean Statement**: `p → q ∧ (q → r ∧ (r → s ∧ (s → t)))`\\n\\n6. **Statement**: If p, then q, and if q, then r, and if r, then s, and if s, then t, and if t, then u.\\n   - **Lean Statement**: `p → q ∧ (q → r ∧ (r → s ∧ (s → t ∧ (t → u))))`\\n\\n7. **Statement**: If p, then q, and if q, then r, and if r, then s, and if s, then t, and if t, then u, and if u, then v.\\n   - **Lean Statement**: `p → q ∧ (q → r ∧ (r → s ∧ (s → t ∧ (t → u ∧ (u → v)))))`\\n\\n8. **Statement**: If p, then q, and if q, then r, and if r, then s, and if s, then t, and if t, then u, and if u, then v, and if v, then w.\\n   - **Lean Statement**: `p → q ∧ (q → r ∧ (r → s ∧ (s → t ∧ (t → u ∧ (u → v ∧ (v → w))))))`\\n\\n9. **Statement**: If p, then q, and if q, then r, and if r, then s, and if s, then t, and if t, then u, and if u, then v, and if v, then w, and if w, then x.\\n   - **Lean Statement**: `p → q ∧ (q → r ∧ (r → s ∧ (s → t ∧ (t → u ∧ (u → v ∧ (v → w ∧ (w → x)))))))`\\n\\n10. **Statement**: If p, then q, and if q, then r, and if r, then s, and if s, then t, and if t, then u, and if u, then v, and if v, then w, and if w, then x, and if x, then y.\\n    - **Lean Statement**: `p → q ∧ (q → r ∧ (r → s ∧ (s → t ∧ (t → u ∧ (u → v ∧ (v → w ∧ (w → x ∧ (x → y))))))))`\\n\\n11. **Statement**: If p, then q, and if q, then r, and if r, then s, and if s, then t, and if t, then u, and if u, then v, and if v, then w, and if w, then x, and if x, then y, and if y, then z.\\n    - **Lean Statement**: `p → q ∧ (q → r ∧ (r → s ∧ (s → t ∧ (t → u ∧ (u → v ∧ (v → w ∧ (w → x ∧ (x → y ∧ (y → z))))))))))`\\n\\n### Explanation\\n\\nEach statement is a chain of implications, where the antecedent of each implication is the consequent of the previous one. The Lean statements are constructed using the `→` operator, which represents implication. The parentheses group the implications together, ensuring the correct logical structure. The statements are designed to be as general as possible, with no specific logical content other than the structure of the implications.<｜end▁of▁sentence｜>']\n"
     ]
    }
   ],
   "source": [
    "outputs = model.generate(inputs, max_new_tokens=8192)\n",
    "print(tokenizer.batch_decode(outputs))"
   ]
  },
  {
   "cell_type": "code",
   "execution_count": 20,
   "id": "cd4bdecb-d942-4325-9932-a60a45e37187",
   "metadata": {},
   "outputs": [
    {
     "name": "stdout",
     "output_type": "stream",
     "text": [
      "<｜begin▁of▁sentence｜><｜User｜>Convert the following into lean statements:\n",
      "\n",
      "if p, then if q, then r.<｜Assistant｜>### Lean Statements\n",
      "\n",
      "1. **Statement**: If p, then if q, then r.\n",
      "   - **Lean Statement**: `p → (q → r)`\n",
      "\n",
      "2. **Statement**: If p and q, then r.\n",
      "   - **Lean Statement**: `p ∧ q → r`\n",
      "\n",
      "3. **Statement**: If p, then q, and if q, then r.\n",
      "   - **Lean Statement**: `p → q ∧ (q → r)`\n",
      "\n",
      "4. **Statement**: If p, then q, and if q, then r, and if r, then s.\n",
      "   - **Lean Statement**: `p → q ∧ (q → r ∧ (r → s))`\n",
      "\n",
      "5. **Statement**: If p, then q, and if q, then r, and if r, then s, and if s, then t.\n",
      "   - **Lean Statement**: `p → q ∧ (q → r ∧ (r → s ∧ (s → t)))`\n",
      "\n",
      "6. **Statement**: If p, then q, and if q, then r, and if r, then s, and if s, then t, and if t, then u.\n",
      "   - **Lean Statement**: `p → q ∧ (q → r ∧ (r → s ∧ (s → t ∧ (t → u))))`\n",
      "\n",
      "7. **Statement**: If p, then q, and if q, then r, and if r, then s, and if s, then t, and if t, then u, and if u, then v.\n",
      "   - **Lean Statement**: `p → q ∧ (q → r ∧ (r → s ∧ (s → t ∧ (t → u ∧ (u → v)))))`\n",
      "\n",
      "8. **Statement**: If p, then q, and if q, then r, and if r, then s, and if s, then t, and if t, then u, and if u, then v, and if v, then w.\n",
      "   - **Lean Statement**: `p → q ∧ (q → r ∧ (r → s ∧ (s → t ∧ (t → u ∧ (u → v ∧ (v → w))))))`\n",
      "\n",
      "9. **Statement**: If p, then q, and if q, then r, and if r, then s, and if s, then t, and if t, then u, and if u, then v, and if v, then w, and if w, then x.\n",
      "   - **Lean Statement**: `p → q ∧ (q → r ∧ (r → s ∧ (s → t ∧ (t → u ∧ (u → v ∧ (v → w ∧ (w → x)))))))`\n",
      "\n",
      "10. **Statement**: If p, then q, and if q, then r, and if r, then s, and if s, then t, and if t, then u, and if u, then v, and if v, then w, and if w, then x, and if x, then y.\n",
      "    - **Lean Statement**: `p → q ∧ (q → r ∧ (r → s ∧ (s → t ∧ (t → u ∧ (u → v ∧ (v → w ∧ (w → x ∧ (x → y))))))))`\n",
      "\n",
      "11. **Statement**: If p, then q, and if q, then r, and if r, then s, and if s, then t, and if t, then u, and if u, then v, and if v, then w, and if w, then x, and if x, then y, and if y, then z.\n",
      "    - **Lean Statement**: `p → q ∧ (q → r ∧ (r → s ∧ (s → t ∧ (t → u ∧ (u → v ∧ (v → w ∧ (w → x ∧ (x → y ∧ (y → z))))))))))`\n",
      "\n",
      "### Explanation\n",
      "\n",
      "Each statement is a chain of implications, where the antecedent of each implication is the consequent of the previous one. The Lean statements are constructed using the `→` operator, which represents implication. The parentheses group the implications together, ensuring the correct logical structure. The statements are designed to be as general as possible, with no specific logical content other than the structure of the implications.<｜end▁of▁sentence｜>\n"
     ]
    }
   ],
   "source": [
    "print(tokenizer.batch_decode(outputs)[0])"
   ]
  },
  {
   "cell_type": "code",
   "execution_count": null,
   "id": "065b3cd1-404f-4121-9a49-77990e1c0315",
   "metadata": {},
   "outputs": [],
   "source": []
  }
 ],
 "metadata": {
  "kernelspec": {
   "display_name": "Python 3 (ipykernel)",
   "language": "python",
   "name": "python3"
  },
  "language_info": {
   "codemirror_mode": {
    "name": "ipython",
    "version": 3
   },
   "file_extension": ".py",
   "mimetype": "text/x-python",
   "name": "python",
   "nbconvert_exporter": "python",
   "pygments_lexer": "ipython3",
   "version": "3.13.3"
  }
 },
 "nbformat": 4,
 "nbformat_minor": 5
}
