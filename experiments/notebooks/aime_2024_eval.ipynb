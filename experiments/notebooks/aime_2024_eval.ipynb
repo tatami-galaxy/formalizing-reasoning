{
 "cells": [
  {
   "cell_type": "code",
   "execution_count": 91,
   "id": "c77802ea-3f79-4e33-abf3-b94862de7d6c",
   "metadata": {},
   "outputs": [],
   "source": [
    "# assumption for AIME : -1 cannot be an answer\n",
    "\n",
    "import re\n",
    "from typing import List\n",
    "import pandas as pd\n",
    "import numpy as np\n",
    "\n",
    "from datasets import load_dataset"
   ]
  },
  {
   "cell_type": "code",
   "execution_count": 15,
   "id": "bdda2283-4720-48b6-bf2a-4f182a53c952",
   "metadata": {},
   "outputs": [],
   "source": [
    "# load dataset\n",
    "aime24 = load_dataset(\"Maxwell-Jia/AIME_2024\")['train']"
   ]
  },
  {
   "cell_type": "code",
   "execution_count": 16,
   "id": "5a20c015-5563-4afb-bf29-183a3e584e37",
   "metadata": {},
   "outputs": [
    {
     "data": {
      "text/plain": [
       "Dataset({\n",
       "    features: ['ID', 'Problem', 'Solution', 'Answer'],\n",
       "    num_rows: 30\n",
       "})"
      ]
     },
     "execution_count": 16,
     "metadata": {},
     "output_type": "execute_result"
    }
   ],
   "source": [
    "aime24"
   ]
  },
  {
   "cell_type": "code",
   "execution_count": 40,
   "id": "d40ccf17-432f-469c-895e-122c7f7ec4c8",
   "metadata": {},
   "outputs": [
    {
     "data": {
      "text/plain": [
       "{'ID': '2024-II-4',\n",
       " 'Problem': 'Let $x,y$ and $z$ be positive real numbers that satisfy the following system of equations: \\n\\\\[\\\\log_2\\\\left({x \\\\over yz}\\\\right) = {1 \\\\over 2}\\\\]\\n\\\\[\\\\log_2\\\\left({y \\\\over xz}\\\\right) = {1 \\\\over 3}\\\\]\\n\\\\[\\\\log_2\\\\left({z \\\\over xy}\\\\right) = {1 \\\\over 4}\\\\]\\nThen the value of $\\\\left|\\\\log_2(x^4y^3z^2)\\\\right|$ is $\\\\tfrac{m}{n}$ where $m$ and $n$ are relatively prime positive integers. Find $m+n$.',\n",
       " 'Solution': 'Denote $\\\\log_2(x) = a$, $\\\\log_2(y) = b$, and $\\\\log_2(z) = c$.\\n\\nThen, we have:\\n$a-b-c = \\\\frac{1}{2}$,\\n$-a+b-c = \\\\frac{1}{3}$,\\n$-a-b+c = \\\\frac{1}{4}$.\\n\\nNow, we can solve to get $a = \\\\frac{-7}{24}, b = \\\\frac{-9}{24}, c = \\\\frac{-5}{12}$.\\nPlugging these values in, we obtain $|4a + 3b + 2c|  = \\\\frac{25}{8} \\\\implies \\\\boxed{033}$.',\n",
       " 'Answer': 33}"
      ]
     },
     "execution_count": 40,
     "metadata": {},
     "output_type": "execute_result"
    }
   ],
   "source": [
    "aime24[0]"
   ]
  },
  {
   "cell_type": "code",
   "execution_count": 19,
   "id": "88baec39-23cf-4689-b5a2-5939bbf8ef2a",
   "metadata": {},
   "outputs": [],
   "source": [
    "# true answers\n",
    "ans_dict = dict(zip(aime24['ID'], aime24['Answer']))"
   ]
  },
  {
   "cell_type": "code",
   "execution_count": 116,
   "id": "9d9324de-9c17-4d11-b6d5-fa4d68e1f4da",
   "metadata": {},
   "outputs": [],
   "source": [
    "# load generations\n",
    "# multiple entries with same ID (multiple runs)\n",
    "\n",
    "results_file = \"/Users/z5652395/formalizing-reasoning/results/AIME_2024_Qwen3-8B_runs_8.csv\"\n",
    "#results_file = \"/Users/z5652395/formalizing-reasoning/results/AIME_2024_Qwen2.5-Math-7B-Instruct_runs_8.csv\""
   ]
  },
  {
   "cell_type": "code",
   "execution_count": 117,
   "id": "110d328d-ff7d-43e4-b2f4-84d7fb779c65",
   "metadata": {},
   "outputs": [],
   "source": [
    "results_df = pd.read_csv(results_file)\n",
    "\n",
    "id_list = results_df['ID'].values.tolist()\n",
    "gen_list = results_df['Generated'].values.tolist()\n",
    "\n",
    "# compile answers by id\n",
    "gen_dict = {}\n",
    "for i in range(len(id_list)):\n",
    "    p_id = id_list[i]\n",
    "    if p_id in gen_dict: gen_dict[p_id].append(gen_list[i])\n",
    "    else: gen_dict[p_id] = [gen_list[i]]"
   ]
  },
  {
   "cell_type": "code",
   "execution_count": 118,
   "id": "39cef7ed-decc-4dc6-a2b6-45133b2e9e44",
   "metadata": {},
   "outputs": [],
   "source": [
    "# mathching function\n",
    "\n",
    "def naive_match(gen: str) -> List[str]:\n",
    "    box = 'boxed{'\n",
    "    box_begin = gen.find(box)\n",
    "    box_end = box_begin + gen[box_begin:].find('}')\n",
    "    gen_ans = gen[box_begin+len(box):box_end]\n",
    "    return [gen_ans]\n",
    "\n",
    "def reg_match(gen: str) -> List[str]:\n",
    "    try:\n",
    "        gen_ans = re.findall('boxed{(.+?)}', gen)\n",
    "    except AttributeError:\n",
    "        gen_ans = []\n",
    "    return gen_ans"
   ]
  },
  {
   "cell_type": "code",
   "execution_count": 119,
   "id": "b1825324-792a-466a-994b-6f766854f72d",
   "metadata": {},
   "outputs": [
    {
     "data": {
      "text/plain": [
       "{'2024-II-4': [1, 1, 1, 1, 1, 1, 1, 1],\n",
       " '2024-II-12': [1, 1, 1, 1, 1, 1, 1, 1],\n",
       " '2024-I-4': [1, 1, 1, 1, 1, 1, 1, 1],\n",
       " '2024-I-3': [1, 1, 1, 1, 1, 1, 1, 1],\n",
       " '2024-I-8': [1, 0, 0, 0, 0, 0, 0, 0],\n",
       " '2024-I-12': [0, 0, 0, 0, 0, 0, 0, 0],\n",
       " '2024-I-11': [0, 0, 0, 0, 1, 0, 0, 0],\n",
       " '2024-II-11': [1, 1, 1, 1, 1, 1, 1, 1],\n",
       " '2024-I-2': [1, 1, 1, 1, 1, 1, 1, 0],\n",
       " '2024-II-6': [1, 1, 1, 1, 1, 1, 1, 1],\n",
       " '2024-I-7': [1, 1, 1, 1, 1, 1, 1, 1],\n",
       " '2024-II-3': [1, 1, 1, 1, 1, 1, 1, 1],\n",
       " '2024-I-1': [1, 1, 1, 1, 1, 1, 1, 1],\n",
       " '2024-II-7': [1, 0, 0, 1, 1, 0, 1, 1],\n",
       " '2024-I-6': [1, 1, 1, 1, 1, 1, 1, 1],\n",
       " '2024-I-13': [1, 1, 0, 1, 1, 0, 1, 1],\n",
       " '2024-I-15': [1, 1, 1, 1, 1, 1, 1, 1],\n",
       " '2024-II-15': [0, 0, 0, 0, 0, 0, 0, 0],\n",
       " '2024-II-10': [1, 0, 1, 1, 1, 1, 1, 1],\n",
       " '2024-II-9': [0, 0, 0, 0, 0, 0, 0, 0],\n",
       " '2024-II-14': [0, 1, 1, 0, 1, 1, 1, 0],\n",
       " '2024-II-5': [1, 1, 1, 0, 0, 1, 1, 1],\n",
       " '2024-I-9': [1, 1, 1, 1, 1, 1, 1, 1],\n",
       " '2024-II-2': [1, 1, 1, 1, 1, 1, 1, 1],\n",
       " '2024-II-1': [1, 1, 1, 1, 1, 1, 1, 1],\n",
       " '2024-I-10': [1, 1, 1, 1, 1, 1, 1, 1],\n",
       " '2024-II-8': [1, 1, 0, 0, 0, 0, 0, 0],\n",
       " '2024-I-14': [1, 1, 1, 1, 1, 1, 0, 1],\n",
       " '2024-I-5': [1, 1, 1, 1, 0, 1, 1, 1],\n",
       " '2024-II-13': [1, 1, 1, 1, 1, 1, 1, 1]}"
      ]
     },
     "execution_count": 119,
     "metadata": {},
     "output_type": "execute_result"
    }
   ],
   "source": [
    "# pass@1\n",
    "# assumption : -1 cannot be an answer\n",
    "\n",
    "pass_dict = {}\n",
    "for p_id in id_list:\n",
    "    \n",
    "    generations = gen_dict[p_id]\n",
    "    answer = ans_dict[p_id]\n",
    "\n",
    "    p = []\n",
    "    for gen in generations:\n",
    "        \n",
    "        # match boxed{.}\n",
    "        #gen_answers = naive_match(gen)\n",
    "        gen_answers = reg_match(gen)\n",
    "        \n",
    "        # take the first match as the answer\n",
    "        if len(gen_answers) > 0:\n",
    "            try:\n",
    "                gen_ans = int(gen_answers[0])\n",
    "            # incorrect gen\n",
    "            except ValueError:\n",
    "                gen_ans = -1\n",
    "        else: gen_ans = -1 \n",
    "        \n",
    "        # compute p\n",
    "        p.append(1) if gen_ans == answer else p.append(0)\n",
    "\n",
    "    pass_dict[p_id] = p\n",
    "    \n",
    "pass_dict"
   ]
  },
  {
   "cell_type": "code",
   "execution_count": 120,
   "id": "f8ee05f9-2c8c-49e8-a206-69149eb40082",
   "metadata": {},
   "outputs": [
    {
     "data": {
      "text/plain": [
       "{'2024-II-4': 0.0,\n",
       " '2024-II-12': 0.0,\n",
       " '2024-I-4': 0.0,\n",
       " '2024-I-3': 0.0,\n",
       " '2024-I-8': 0.109375,\n",
       " '2024-I-12': 0.0,\n",
       " '2024-I-11': 0.109375,\n",
       " '2024-II-11': 0.0,\n",
       " '2024-I-2': 0.109375,\n",
       " '2024-II-6': 0.0,\n",
       " '2024-I-7': 0.0,\n",
       " '2024-II-3': 0.0,\n",
       " '2024-I-1': 0.0,\n",
       " '2024-II-7': 0.234375,\n",
       " '2024-I-6': 0.0,\n",
       " '2024-I-13': 0.1875,\n",
       " '2024-I-15': 0.0,\n",
       " '2024-II-15': 0.0,\n",
       " '2024-II-10': 0.109375,\n",
       " '2024-II-9': 0.0,\n",
       " '2024-II-14': 0.234375,\n",
       " '2024-II-5': 0.1875,\n",
       " '2024-I-9': 0.0,\n",
       " '2024-II-2': 0.0,\n",
       " '2024-II-1': 0.0,\n",
       " '2024-I-10': 0.0,\n",
       " '2024-II-8': 0.1875,\n",
       " '2024-I-14': 0.109375,\n",
       " '2024-I-5': 0.109375,\n",
       " '2024-II-13': 0.0}"
      ]
     },
     "execution_count": 120,
     "metadata": {},
     "output_type": "execute_result"
    }
   ],
   "source": [
    "# accuracy variance by problem\n",
    "# one way to sort problems\n",
    "pass_arrays = np.array(list(pass_dict.values()))\n",
    "acc_vars = dict(zip(list(pass_dict.keys()), np.var(pass_arrays, axis=1).tolist()))\n",
    "acc_vars"
   ]
  },
  {
   "cell_type": "code",
   "execution_count": 121,
   "id": "e8d74801-a8d7-42c1-a934-eb2f8e8c725e",
   "metadata": {},
   "outputs": [
    {
     "name": "stdout",
     "output_type": "stream",
     "text": [
      "avg var : 0.05625\n"
     ]
    }
   ],
   "source": [
    "# average var\n",
    "all_vars = list(acc_vars.values())\n",
    "print('avg var : {}'.format(sum(all_vars)/len(all_vars)))"
   ]
  },
  {
   "cell_type": "code",
   "execution_count": null,
   "id": "5efc8c4b-89bd-4819-a69c-ee1cbd3061f6",
   "metadata": {},
   "outputs": [],
   "source": []
  },
  {
   "cell_type": "code",
   "execution_count": 122,
   "id": "98bb4432-f5a1-47ef-9147-fa8f62636f13",
   "metadata": {},
   "outputs": [
    {
     "data": {
      "text/plain": [
       "{'2024-II-4': 1.0,\n",
       " '2024-II-12': 1.0,\n",
       " '2024-I-4': 1.0,\n",
       " '2024-I-3': 1.0,\n",
       " '2024-I-8': 0.125,\n",
       " '2024-I-12': 0.0,\n",
       " '2024-I-11': 0.125,\n",
       " '2024-II-11': 1.0,\n",
       " '2024-I-2': 0.875,\n",
       " '2024-II-6': 1.0,\n",
       " '2024-I-7': 1.0,\n",
       " '2024-II-3': 1.0,\n",
       " '2024-I-1': 1.0,\n",
       " '2024-II-7': 0.625,\n",
       " '2024-I-6': 1.0,\n",
       " '2024-I-13': 0.75,\n",
       " '2024-I-15': 1.0,\n",
       " '2024-II-15': 0.0,\n",
       " '2024-II-10': 0.875,\n",
       " '2024-II-9': 0.0,\n",
       " '2024-II-14': 0.625,\n",
       " '2024-II-5': 0.75,\n",
       " '2024-I-9': 1.0,\n",
       " '2024-II-2': 1.0,\n",
       " '2024-II-1': 1.0,\n",
       " '2024-I-10': 1.0,\n",
       " '2024-II-8': 0.25,\n",
       " '2024-I-14': 0.875,\n",
       " '2024-I-5': 0.875,\n",
       " '2024-II-13': 1.0}"
      ]
     },
     "execution_count": 122,
     "metadata": {},
     "output_type": "execute_result"
    }
   ],
   "source": [
    "# can measure problem difficulty with this\n",
    "# another way to sort problems\n",
    "avg_pass_dict = {}\n",
    "for p_id, p_vec in pass_dict.items():\n",
    "    avg_pass_dict[p_id] = sum(p_vec)/len(p_vec)\n",
    "\n",
    "avg_pass_dict"
   ]
  },
  {
   "cell_type": "code",
   "execution_count": 123,
   "id": "1ef4ea0f-bc4e-44b6-842b-d1012d3df964",
   "metadata": {},
   "outputs": [
    {
     "name": "stdout",
     "output_type": "stream",
     "text": [
      "pass@1 : 0.7583333333333333\n"
     ]
    }
   ],
   "source": [
    "print(\"pass@1 : {}\".format(sum(list(avg_pass_dict.values())) / len(avg_pass_dict)))"
   ]
  },
  {
   "cell_type": "code",
   "execution_count": null,
   "id": "b0d59513-22de-420a-8c16-c03c2a9c4305",
   "metadata": {},
   "outputs": [],
   "source": []
  }
 ],
 "metadata": {
  "kernelspec": {
   "display_name": "Python 3 (ipykernel)",
   "language": "python",
   "name": "python3"
  },
  "language_info": {
   "codemirror_mode": {
    "name": "ipython",
    "version": 3
   },
   "file_extension": ".py",
   "mimetype": "text/x-python",
   "name": "python",
   "nbconvert_exporter": "python",
   "pygments_lexer": "ipython3",
   "version": "3.13.3"
  }
 },
 "nbformat": 4,
 "nbformat_minor": 5
}
