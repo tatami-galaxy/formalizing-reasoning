{
 "cells": [
  {
   "cell_type": "code",
   "execution_count": 7,
   "id": "c77802ea-3f79-4e33-abf3-b94862de7d6c",
   "metadata": {},
   "outputs": [],
   "source": [
    "from datasets import load_dataset\n",
    "\n",
    "from transformers import AutoModelForCausalLM, AutoTokenizer"
   ]
  },
  {
   "cell_type": "code",
   "execution_count": 3,
   "id": "bdda2283-4720-48b6-bf2a-4f182a53c952",
   "metadata": {},
   "outputs": [
    {
     "name": "stderr",
     "output_type": "stream",
     "text": [
      "Generating train split: 30 examples [00:00, 3880.74 examples/s]\n"
     ]
    }
   ],
   "source": [
    "aime24 = load_dataset(\"Maxwell-Jia/AIME_2024\")"
   ]
  },
  {
   "cell_type": "code",
   "execution_count": 4,
   "id": "5a20c015-5563-4afb-bf29-183a3e584e37",
   "metadata": {},
   "outputs": [
    {
     "data": {
      "text/plain": [
       "DatasetDict({\n",
       "    train: Dataset({\n",
       "        features: ['ID', 'Problem', 'Solution', 'Answer'],\n",
       "        num_rows: 30\n",
       "    })\n",
       "})"
      ]
     },
     "execution_count": 4,
     "metadata": {},
     "output_type": "execute_result"
    }
   ],
   "source": [
    "aime24"
   ]
  },
  {
   "cell_type": "code",
   "execution_count": 6,
   "id": "88baec39-23cf-4689-b5a2-5939bbf8ef2a",
   "metadata": {},
   "outputs": [
    {
     "data": {
      "text/plain": [
       "{'ID': '2024-II-4',\n",
       " 'Problem': 'Let $x,y$ and $z$ be positive real numbers that satisfy the following system of equations: \\n\\\\[\\\\log_2\\\\left({x \\\\over yz}\\\\right) = {1 \\\\over 2}\\\\]\\n\\\\[\\\\log_2\\\\left({y \\\\over xz}\\\\right) = {1 \\\\over 3}\\\\]\\n\\\\[\\\\log_2\\\\left({z \\\\over xy}\\\\right) = {1 \\\\over 4}\\\\]\\nThen the value of $\\\\left|\\\\log_2(x^4y^3z^2)\\\\right|$ is $\\\\tfrac{m}{n}$ where $m$ and $n$ are relatively prime positive integers. Find $m+n$.',\n",
       " 'Solution': 'Denote $\\\\log_2(x) = a$, $\\\\log_2(y) = b$, and $\\\\log_2(z) = c$.\\n\\nThen, we have:\\n$a-b-c = \\\\frac{1}{2}$,\\n$-a+b-c = \\\\frac{1}{3}$,\\n$-a-b+c = \\\\frac{1}{4}$.\\n\\nNow, we can solve to get $a = \\\\frac{-7}{24}, b = \\\\frac{-9}{24}, c = \\\\frac{-5}{12}$.\\nPlugging these values in, we obtain $|4a + 3b + 2c|  = \\\\frac{25}{8} \\\\implies \\\\boxed{033}$.',\n",
       " 'Answer': 33}"
      ]
     },
     "execution_count": 6,
     "metadata": {},
     "output_type": "execute_result"
    }
   ],
   "source": [
    "aime24['train'][0]"
   ]
  },
  {
   "cell_type": "code",
   "execution_count": null,
   "id": "5f19e221-afa6-44be-9dc8-6c031a00241e",
   "metadata": {},
   "outputs": [],
   "source": []
  },
  {
   "cell_type": "code",
   "execution_count": 8,
   "id": "560c09ce-0eb0-454c-92cc-4efc06433cc2",
   "metadata": {},
   "outputs": [
    {
     "name": "stderr",
     "output_type": "stream",
     "text": [
      "Fetching 5 files: 100%|█████████████████████████████████████| 5/5 [02:03<00:00, 24.73s/it]\n",
      "Loading checkpoint shards: 100%|████████████████████████████| 5/5 [00:11<00:00,  2.20s/it]\n"
     ]
    }
   ],
   "source": [
    "model_name = \"Qwen/Qwen3-8B\"\n",
    "\n",
    "# load the tokenizer and the model\n",
    "tokenizer = AutoTokenizer.from_pretrained(model_name)\n",
    "model = AutoModelForCausalLM.from_pretrained(\n",
    "    model_name,\n",
    "    torch_dtype=\"auto\",\n",
    "    device_map=\"auto\"\n",
    ")"
   ]
  },
  {
   "cell_type": "code",
   "execution_count": 10,
   "id": "1b2d4ddd-aa15-4c5c-bf8c-c73230824626",
   "metadata": {},
   "outputs": [
    {
     "data": {
      "text/plain": [
       "device(type='cuda', index=0)"
      ]
     },
     "execution_count": 10,
     "metadata": {},
     "output_type": "execute_result"
    }
   ],
   "source": [
    "model.device"
   ]
  },
  {
   "cell_type": "code",
   "execution_count": 11,
   "id": "4474676d-8794-4022-8f2c-22bf94946c4c",
   "metadata": {},
   "outputs": [
    {
     "data": {
      "text/plain": [
       "GenerationConfig {\n",
       "  \"bos_token_id\": 151643,\n",
       "  \"do_sample\": true,\n",
       "  \"eos_token_id\": [\n",
       "    151645,\n",
       "    151643\n",
       "  ],\n",
       "  \"pad_token_id\": 151643,\n",
       "  \"temperature\": 0.6,\n",
       "  \"top_k\": 20,\n",
       "  \"top_p\": 0.95\n",
       "}"
      ]
     },
     "execution_count": 11,
     "metadata": {},
     "output_type": "execute_result"
    }
   ],
   "source": [
    "model.generation_config"
   ]
  },
  {
   "cell_type": "code",
   "execution_count": 25,
   "id": "593c59de-6e07-4fb9-bcc4-7641a9292e95",
   "metadata": {},
   "outputs": [],
   "source": [
    "prompt1 = \"Please reason step by step, and put your final answer within \\boxed{}. \" \n",
    "prompt2 = \"Answer the following question, and put your final answer within \\boxed{}. \"\n",
    "\n",
    "prompt = prompt2 + aime24['train'][0]['Problem']"
   ]
  },
  {
   "cell_type": "code",
   "execution_count": 26,
   "id": "9ba3ea8a-5d75-47a8-a00a-32b667ec0778",
   "metadata": {},
   "outputs": [],
   "source": [
    "messages = [\n",
    "    {\"role\": \"user\", \"content\": prompt}\n",
    "]\n",
    "text = tokenizer.apply_chat_template(\n",
    "    messages,\n",
    "    tokenize=False,\n",
    "    add_generation_prompt=True,\n",
    "    enable_thinking=False # Switches between thinking and non-thinking modes. Default is True.\n",
    ")\n",
    "model_inputs = tokenizer([text], return_tensors=\"pt\").to(model.device)"
   ]
  },
  {
   "cell_type": "code",
   "execution_count": 27,
   "id": "5722f032-c9b4-416f-8f53-3f53504515db",
   "metadata": {},
   "outputs": [],
   "source": [
    "generated_ids = model.generate(\n",
    "    **model_inputs,\n",
    "    max_new_tokens=32768\n",
    ")\n",
    "output_ids = generated_ids[0][len(model_inputs.input_ids[0]):].tolist() "
   ]
  },
  {
   "cell_type": "code",
   "execution_count": 28,
   "id": "0a6c5e33-4f15-48ca-bddf-55eee305c8f3",
   "metadata": {},
   "outputs": [
    {
     "name": "stdout",
     "output_type": "stream",
     "text": [
      "answer: We are given the following system of logarithmic equations with positive real numbers $ x, y, z $:\n",
      "\n",
      "$$\n",
      "\\log_2\\left(\\frac{x}{yz}\\right) = \\frac{1}{2} \\tag{1}\n",
      "$$\n",
      "$$\n",
      "\\log_2\\left(\\frac{y}{xz}\\right) = \\frac{1}{3} \\tag{2}\n",
      "$$\n",
      "$$\n",
      "\\log_2\\left(\\frac{z}{xy}\\right) = \\frac{1}{4} \\tag{3}\n",
      "$$\n",
      "\n",
      "We are to find the value of:\n",
      "\n",
      "$$\n",
      "\\left| \\log_2(x^4 y^3 z^2) \\right| = \\left| 4\\log_2 x + 3\\log_2 y + 2\\log_2 z \\right|\n",
      "$$\n",
      "\n",
      "Let’s denote:\n",
      "\n",
      "$$\n",
      "a = \\log_2 x, \\quad b = \\log_2 y, \\quad c = \\log_2 z\n",
      "$$\n",
      "\n",
      "Then the expressions become:\n",
      "\n",
      "$$\n",
      "\\log_2\\left(\\frac{x}{yz}\\right) = \\log_2 x - \\log_2(yz) = a - (b + c) = \\frac{1}{2} \\tag{4}\n",
      "$$\n",
      "$$\n",
      "\\log_2\\left(\\frac{y}{xz}\\right) = \\log_2 y - \\log_2(xz) = b - (a + c) = \\frac{1}{3} \\tag{5}\n",
      "$$\n",
      "$$\n",
      "\\log_2\\left(\\frac{z}{xy}\\right) = \\log_2 z - \\log_2(xy) = c - (a + b) = \\frac{1}{4} \\tag{6}\n",
      "$$\n",
      "\n",
      "So we now have the system of linear equations:\n",
      "\n",
      "$$\n",
      "\\begin{cases}\n",
      "a - b - c = \\frac{1}{2} \\tag{7} \\\\\n",
      "b - a - c = \\frac{1}{3} \\tag{8} \\\\\n",
      "c - a - b = \\frac{1}{4} \\tag{9}\n",
      "\\end{cases}\n",
      "$$\n",
      "\n",
      "Let’s solve this system.\n",
      "\n",
      "---\n",
      "\n",
      "### Step 1: Add all three equations:\n",
      "\n",
      "$$\n",
      "(a - b - c) + (b - a - c) + (c - a - b) = \\frac{1}{2} + \\frac{1}{3} + \\frac{1}{4}\n",
      "$$\n",
      "\n",
      "Simplify left-hand side:\n",
      "\n",
      "$$\n",
      "a - b - c + b - a - c + c - a - b = -a - b - c\n",
      "$$\n",
      "\n",
      "So:\n",
      "\n",
      "$$\n",
      "-a - b - c = \\frac{1}{2} + \\frac{1}{3} + \\frac{1}{4}\n",
      "$$\n",
      "\n",
      "Compute the right-hand side:\n",
      "\n",
      "$$\n",
      "\\frac{1}{2} + \\frac{1}{3} + \\frac{1}{4} = \\frac{6 + 4 + 3}{12} = \\frac{13}{12}\n",
      "$$\n",
      "\n",
      "So:\n",
      "\n",
      "$$\n",
      "-a - b - c = \\frac{13}{12} \\Rightarrow a + b + c = -\\frac{13}{12} \\tag{10}\n",
      "$$\n",
      "\n",
      "---\n",
      "\n",
      "### Step 2: Use equation (7): $ a - b - c = \\frac{1}{2} $\n",
      "\n",
      "Add to equation (10):\n",
      "\n",
      "$$\n",
      "(a - b - c) + (a + b + c) = \\frac{1}{2} - \\frac{13}{12}\n",
      "$$\n",
      "\n",
      "Left-hand side:\n",
      "\n",
      "$$\n",
      "2a = \\frac{6}{12} - \\frac{13}{12} = -\\frac{7}{12} \\Rightarrow a = -\\frac{7}{24}\n",
      "$$\n",
      "\n",
      "---\n",
      "\n",
      "### Step 3: Use equation (8): $ b - a - c = \\frac{1}{3} $\n",
      "\n",
      "Add to equation (10):\n",
      "\n",
      "$$\n",
      "(b - a - c) + (a + b + c) = \\frac{1}{3} - \\frac{13}{12}\n",
      "$$\n",
      "\n",
      "Left-hand side:\n",
      "\n",
      "$$\n",
      "2b = \\frac{4}{12} - \\frac{13}{12} = -\\frac{9}{12} = -\\frac{3}{4} \\Rightarrow b = -\\frac{3}{8}\n",
      "$$\n",
      "\n",
      "---\n",
      "\n",
      "### Step 4: Use equation (9): $ c - a - b = \\frac{1}{4} $\n",
      "\n",
      "Add to equation (10):\n",
      "\n",
      "$$\n",
      "(c - a - b) + (a + b + c) = \\frac{1}{4} - \\frac{13}{12}\n",
      "$$\n",
      "\n",
      "Left-hand side:\n",
      "\n",
      "$$\n",
      "2c = \\frac{3}{12} - \\frac{13}{12} = -\\frac{10}{12} = -\\frac{5}{6} \\Rightarrow c = -\\frac{5}{12}\n",
      "$$\n",
      "\n",
      "---\n",
      "\n",
      "### Step 5: Compute the desired expression:\n",
      "\n",
      "$$\n",
      "\\left| \\log_2(x^4 y^3 z^2) \\right| = \\left| 4a + 3b + 2c \\right|\n",
      "$$\n",
      "\n",
      "Substitute values:\n",
      "\n",
      "$$\n",
      "4a = 4 \\cdot \\left(-\\frac{7}{24}\\right) = -\\frac{28}{24} = -\\frac{7}{6}\n",
      "$$\n",
      "$$\n",
      "3b = 3 \\cdot \\left(-\\frac{3}{8}\\right) = -\\frac{9}{8}\n",
      "$$\n",
      "$$\n",
      "2c = 2 \\cdot \\left(-\\frac{5}{12}\\right) = -\\frac{10}{12} = -\\frac{5}{6}\n",
      "$$\n",
      "\n",
      "Now add:\n",
      "\n",
      "$$\n",
      "-\\frac{7}{6} - \\frac{9}{8} - \\frac{5}{6}\n",
      "$$\n",
      "\n",
      "Find common denominator: LCM of 6 and 8 is 24.\n",
      "\n",
      "$$\n",
      "-\\frac{7}{6} = -\\frac{28}{24}, \\quad -\\frac{9}{8} = -\\frac{27}{24}, \\quad -\\frac{5}{6} = -\\frac{20}{24}\n",
      "$$\n",
      "\n",
      "$$\n",
      "-\\frac{28}{24} - \\frac{27}{24} - \\frac{20}{24} = -\\frac{75}{24}\n",
      "$$\n",
      "\n",
      "Take absolute value:\n",
      "\n",
      "$$\n",
      "\\left| -\\frac{75}{24} \\right| = \\frac{75}{24}\n",
      "$$\n",
      "\n",
      "Simplify the fraction:\n",
      "\n",
      "$$\n",
      "\\frac{75}{24} = \\frac{25}{8}\n",
      "$$\n",
      "\n",
      "So the answer is:\n",
      "\n",
      "$$\n",
      "\\boxed{\\frac{25}{8}}\n",
      "$$\n",
      "\n",
      "Thus, $ m = 25 $, $ n = 8 $, and $ m + n = \\boxed{33} $\n",
      "\n",
      "---\n",
      "\n",
      "### Final Answer:\n",
      "\n",
      "$$\n",
      "\\boxed{33}\n",
      "$$\n"
     ]
    }
   ],
   "source": [
    "content = tokenizer.decode(output_ids, skip_special_tokens=True).strip(\"\\n\")\n",
    "print(\"answer:\", content)"
   ]
  },
  {
   "cell_type": "code",
   "execution_count": null,
   "id": "72e4596e-1631-4bd5-a4d3-9fad9ff9e291",
   "metadata": {},
   "outputs": [],
   "source": []
  }
 ],
 "metadata": {
  "kernelspec": {
   "display_name": "Python 3 (ipykernel)",
   "language": "python",
   "name": "python3"
  },
  "language_info": {
   "codemirror_mode": {
    "name": "ipython",
    "version": 3
   },
   "file_extension": ".py",
   "mimetype": "text/x-python",
   "name": "python",
   "nbconvert_exporter": "python",
   "pygments_lexer": "ipython3",
   "version": "3.13.3"
  }
 },
 "nbformat": 4,
 "nbformat_minor": 5
}
